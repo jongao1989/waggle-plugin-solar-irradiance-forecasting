{
 "cells": [
  {
   "cell_type": "markdown",
   "metadata": {},
   "source": [
    "# Convert XArray to Pickled Dictionary\n",
    "Opens data from solar irradiance and cloud coverage files with xarray, does a little preprocessing, and converts to a pickled dictionary for use as dummy data for the plugin"
   ]
  },
  {
   "cell_type": "code",
   "execution_count": 1,
   "metadata": {},
   "outputs": [],
   "source": [
    "import pickle\n",
    "import xarray as xr"
   ]
  },
  {
   "cell_type": "code",
   "execution_count": 22,
   "metadata": {},
   "outputs": [],
   "source": [
    "def open_file_with_xr(path):\n",
    "    data = xr.open_mfdataset(path)\n",
    "    return data"
   ]
  },
  {
   "cell_type": "code",
   "execution_count": 23,
   "metadata": {},
   "outputs": [],
   "source": [
    "# structured as: {name of variable in app.py: [file path, name of variable we want from that file]}\n",
    "paths = {\"env.solar.irradiance\": ['sgpradflux1longC1.c2.20160301.060000.nc', 'downwelling_shortwave'],\n",
    "         \"env.coverage.cloud\": ['sgptsiskycoverC1.b1.20160301.000000.cdf', 'percent_opaque']}\n",
    "\n",
    "# create a dicitonary of xr datasets for each variable\n",
    "xr_dict = {}\n",
    "for name, xr_details in paths.items():\n",
    "    path = xr_details[0]\n",
    "    var_name = xr_details[1]\n",
    "    data = open_file_with_xr(path)[var_name]\n",
    "    xr_dict[name] = data\n",
    "\n",
    "# get the intersection of each variable's dataset (intersection of time points)\n",
    "merged = xr.merge(xr_dict.values(), join='inner')\n",
    "\n",
    "# now take each variable's data and put it back into a dictionary for pickling\n",
    "data_dict = {}\n",
    "for name, xr_details in paths.items():\n",
    "    var_name = xr_details[1]\n",
    "    data_dict[name] = merged[var_name].values\n",
    "\n",
    "# pickle the data dict\n",
    "with open('20160301_ex_data.pickle', 'wb') as handle:\n",
    "    pickle.dump(data_dict, handle, protocol=pickle.HIGHEST_PROTOCOL)"
   ]
  }
 ],
 "metadata": {
  "kernelspec": {
   "display_name": "Python 3.9.12 ('tf')",
   "language": "python",
   "name": "python3"
  },
  "language_info": {
   "codemirror_mode": {
    "name": "ipython",
    "version": 3
   },
   "file_extension": ".py",
   "mimetype": "text/x-python",
   "name": "python",
   "nbconvert_exporter": "python",
   "pygments_lexer": "ipython3",
   "version": "3.9.12"
  },
  "orig_nbformat": 4,
  "vscode": {
   "interpreter": {
    "hash": "1785dcf101801635e756bb912841babeca560cb71b91fc4ced8de7e694d77769"
   }
  }
 },
 "nbformat": 4,
 "nbformat_minor": 2
}
