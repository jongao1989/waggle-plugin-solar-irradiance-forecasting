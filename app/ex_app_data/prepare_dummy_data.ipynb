{
 "cells": [
  {
   "cell_type": "markdown",
   "metadata": {},
   "source": [
    "# Prepare Dummy Data\n",
    "Convert XArray to Pickled Dictionary\n",
    "\n",
    "Opens data from solar irradiance and cloud coverage files with xarray, does a little preprocessing, and converts to a pickled dictionary for use as dummy data for the plugin\n",
    "\n",
    "See [this link](https://drive.google.com/drive/folders/1--4frW2RCqb0Axh356DfUkCZfKdl8aSm?usp=sharing) for data. Folder is shared to select individuals. See ```README.ipynb``` for information on data used in this project."
   ]
  },
  {
   "cell_type": "code",
   "execution_count": 9,
   "metadata": {},
   "outputs": [],
   "source": [
    "import pickle\n",
    "import xarray as xr\n",
    "import numpy as np"
   ]
  },
  {
   "cell_type": "code",
   "execution_count": 20,
   "metadata": {},
   "outputs": [],
   "source": [
    "sol_irr_path = 'sgpradflux1longC1.c2.20160301.060000.nc'\n",
    "cloud_coverage_path = 'sgptsiskycoverC1.b1.20160301.000000.cdf'\n",
    "\n",
    "sol_irr_var = 'downwelling_shortwave'\n",
    "cloud_coverage_var = 'percent_opaque'\n",
    "\n",
    "resample_rate = '15min'\n",
    "\n",
    "TOPIC_HISTORICAL_SOL_IRR = \"env.solar.irradiance\"\n",
    "TOPIC_HISTORICAL_CLOUD_COVERAGE = \"env.coverage.cloud\""
   ]
  },
  {
   "cell_type": "code",
   "execution_count": 21,
   "metadata": {},
   "outputs": [],
   "source": [
    "def open_file_with_xr(path):\n",
    "    data = xr.open_mfdataset(path)\n",
    "    return data"
   ]
  },
  {
   "cell_type": "code",
   "execution_count": 27,
   "metadata": {},
   "outputs": [],
   "source": [
    "# structured as: {name of variable in app.py: [file path, name of variable we want from that file]}\n",
    "paths = {TOPIC_HISTORICAL_SOL_IRR: [sol_irr_path, sol_irr_var],\n",
    "         TOPIC_HISTORICAL_CLOUD_COVERAGE: [cloud_coverage_path, cloud_coverage_var]}\n",
    "\n",
    "# create a dicitonary of xr datasets for each variable\n",
    "xr_dict = {}\n",
    "for name, xr_details in paths.items():\n",
    "    path = xr_details[0]\n",
    "    var_name = xr_details[1]\n",
    "    data = open_file_with_xr(path)[var_name]\n",
    "    xr_dict[name] = data\n",
    "\n",
    "# replace -100's with 0's in cloud coverage data\n",
    "cloud_cover = xr_dict[TOPIC_HISTORICAL_CLOUD_COVERAGE]\n",
    "cloud_cover = cloud_cover.where(cloud_cover != -100, drop=True)\n",
    "xr_dict[TOPIC_HISTORICAL_CLOUD_COVERAGE] = cloud_cover\n",
    "\n",
    "# get the intersection of each variable's dataset (intersection of time points)\n",
    "merged = xr.merge(xr_dict.values(), join='inner')\n",
    "\n",
    "# resample. app.py will scale format into time series, but not resample\n",
    "merged = merged.resample(time=resample_rate).mean()\n",
    "\n",
    "# now take each variable's data and put it back into a dictionary for pickling\n",
    "data_dict = {}\n",
    "for name, xr_details in paths.items():\n",
    "    var_name = xr_details[1]\n",
    "    data_dict[name] = merged[var_name].values\n",
    "\n",
    "# pickle the data dict\n",
    "with open('20160301_ex_data.pickle', 'wb') as handle:\n",
    "    pickle.dump(data_dict, handle, protocol=pickle.HIGHEST_PROTOCOL)"
   ]
  },
  {
   "cell_type": "code",
   "execution_count": 31,
   "metadata": {},
   "outputs": [
    {
     "data": {
      "text/plain": [
       "array([717.6733 , 737.48663, 753.0933 , 764.0934 ], dtype=float32)"
      ]
     },
     "execution_count": 31,
     "metadata": {},
     "output_type": "execute_result"
    }
   ],
   "source": [
    "# If you use the dummy data (20160301_ex_data.pickle), compare to the actual values here!\n",
    "data_dict[TOPIC_HISTORICAL_SOL_IRR][16:16+4]"
   ]
  }
 ],
 "metadata": {
  "kernelspec": {
   "display_name": "Python 3.9.12 ('tf')",
   "language": "python",
   "name": "python3"
  },
  "language_info": {
   "codemirror_mode": {
    "name": "ipython",
    "version": 3
   },
   "file_extension": ".py",
   "mimetype": "text/x-python",
   "name": "python",
   "nbconvert_exporter": "python",
   "pygments_lexer": "ipython3",
   "version": "3.9.12"
  },
  "orig_nbformat": 4,
  "vscode": {
   "interpreter": {
    "hash": "1785dcf101801635e756bb912841babeca560cb71b91fc4ced8de7e694d77769"
   }
  }
 },
 "nbformat": 4,
 "nbformat_minor": 2
}
