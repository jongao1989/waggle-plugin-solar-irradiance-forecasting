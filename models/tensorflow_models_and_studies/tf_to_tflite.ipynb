{
 "cells": [
  {
   "cell_type": "markdown",
   "id": "0e232234",
   "metadata": {},
   "source": [
    "# Getting Model\n",
    "Short, simple script to extract models from studies, convert to tflite, and save.\n",
    "\n",
    "There seems to be an error when running sometimes? This runs fine on the pydda_env env, but not on my personal environment."
   ]
  },
  {
   "cell_type": "code",
   "execution_count": 1,
   "id": "cb400c9d",
   "metadata": {},
   "outputs": [],
   "source": [
    "# baseline imports\n",
    "import numpy as np\n",
    "import os\n",
    "import pickle\n",
    "import tensorflow.lite as tflite\n",
    "import tensorflow as tf"
   ]
  },
  {
   "cell_type": "markdown",
   "id": "e1b8c3b0",
   "metadata": {},
   "source": [
    "## Extract models from studies\n",
    "Note that the paths are important here; change them as need may be"
   ]
  },
  {
   "cell_type": "code",
   "execution_count": 2,
   "id": "27bdba83",
   "metadata": {},
   "outputs": [],
   "source": [
    "def get_best_model_from_study(path):\n",
    "    file = open(path, \"rb\")\n",
    "    study = pickle.load(file)\n",
    "    file.close()\n",
    "    return study.best_trial.user_attrs['model']\n",
    "\n",
    "def convert_model_to_tflite(model):\n",
    "    converter = tflite.TFLiteConverter.from_keras_model(model)\n",
    "    converter.optimizations = [tflite.Optimize.DEFAULT]\n",
    "    converter.experimental_new_converter=True\n",
    "    converter.target_spec.supported_ops = [tflite.OpsSet.TFLITE_BUILTINS, tflite.OpsSet.SELECT_TF_OPS]\n",
    "    return converter.convert()\n",
    "    \n",
    "def save_tflite_model(tflite_model, name, dirname):\n",
    "    path = os.path.join(dirname,f'{name}.tflite')\n",
    "    open(path, \"wb\").write(tflite_model)\n",
    "\n",
    "def convert_and_save_as_tflite(name, model):\n",
    "    tflite_model = convert_model_to_tflite(model)\n",
    "    save_tflite_model(tflite_model, name, dirname='models')"
   ]
  },
  {
   "cell_type": "markdown",
   "id": "972b38bc",
   "metadata": {},
   "source": [
    "Seasonal models"
   ]
  },
  {
   "cell_type": "code",
   "execution_count": 7,
   "id": "76caa6b3",
   "metadata": {
    "collapsed": true
   },
   "outputs": [
    {
     "name": "stderr",
     "output_type": "stream",
     "text": [
      "/home/jonathan.gao/.conda/envs/pydda_env/lib/python3.9/site-packages/tqdm/auto.py:22: TqdmWarning: IProgress not found. Please update jupyter and ipywidgets. See https://ipywidgets.readthedocs.io/en/stable/user_install.html\n",
      "  from .autonotebook import tqdm as notebook_tqdm\n",
      "2022-07-28 14:41:01.197875: I tensorflow/core/platform/cpu_feature_guard.cc:151] This TensorFlow binary is optimized with oneAPI Deep Neural Network Library (oneDNN) to use the following CPU instructions in performance-critical operations:  SSE4.1 SSE4.2 AVX AVX2 FMA\n",
      "To enable them in other operations, rebuild TensorFlow with the appropriate compiler flags.\n",
      "2022-07-28 14:41:03.640878: I tensorflow/core/common_runtime/gpu/gpu_device.cc:1525] Created device /job:localhost/replica:0/task:0/device:GPU:0 with 38396 MB memory:  -> device: 0, name: NVIDIA A100-SXM4-40GB, pci bus id: 0000:07:00.0, compute capability: 8.0\n",
      "2022-07-28 14:41:45.026886: W tensorflow/python/util/util.cc:368] Sets are not currently considered sequences, but this may change in the future, so consider avoiding using them.\n",
      "WARNING:absl:Found untraced functions such as lstm_cell_layer_call_fn, lstm_cell_layer_call_and_return_conditional_losses, lstm_cell_layer_call_fn, lstm_cell_layer_call_and_return_conditional_losses, lstm_cell_layer_call_and_return_conditional_losses while saving (showing 5 of 5). These functions will not be directly callable after loading.\n"
     ]
    },
    {
     "name": "stdout",
     "output_type": "stream",
     "text": [
      "INFO:tensorflow:Assets written to: ram://12921fe5-98dd-4f61-bad4-57afa6ade558/assets\n"
     ]
    },
    {
     "name": "stderr",
     "output_type": "stream",
     "text": [
      "INFO:tensorflow:Assets written to: ram://12921fe5-98dd-4f61-bad4-57afa6ade558/assets\n",
      "WARNING:absl:<keras.layers.recurrent.LSTMCell object at 0x153af99da250> has the same name 'LSTMCell' as a built-in Keras object. Consider renaming <class 'keras.layers.recurrent.LSTMCell'> to avoid naming conflicts when loading with `tf.keras.models.load_model`. If renaming is not possible, pass the object in the `custom_objects` parameter of the load function.\n",
      "WARNING:absl:Found untraced functions such as lstm_cell_49_layer_call_fn, lstm_cell_49_layer_call_and_return_conditional_losses, lstm_cell_50_layer_call_fn, lstm_cell_50_layer_call_and_return_conditional_losses, lstm_cell_49_layer_call_fn while saving (showing 5 of 10). These functions will not be directly callable after loading.\n"
     ]
    },
    {
     "name": "stdout",
     "output_type": "stream",
     "text": [
      "INFO:tensorflow:Assets written to: ram://bcccdaab-bd07-42d5-a2da-2bfb7923de43/assets\n"
     ]
    },
    {
     "name": "stderr",
     "output_type": "stream",
     "text": [
      "INFO:tensorflow:Assets written to: ram://bcccdaab-bd07-42d5-a2da-2bfb7923de43/assets\n",
      "WARNING:absl:<keras.layers.recurrent.LSTMCell object at 0x15308fc7eaf0> has the same name 'LSTMCell' as a built-in Keras object. Consider renaming <class 'keras.layers.recurrent.LSTMCell'> to avoid naming conflicts when loading with `tf.keras.models.load_model`. If renaming is not possible, pass the object in the `custom_objects` parameter of the load function.\n",
      "WARNING:absl:<keras.layers.recurrent.LSTMCell object at 0x15308fc83a30> has the same name 'LSTMCell' as a built-in Keras object. Consider renaming <class 'keras.layers.recurrent.LSTMCell'> to avoid naming conflicts when loading with `tf.keras.models.load_model`. If renaming is not possible, pass the object in the `custom_objects` parameter of the load function.\n",
      "WARNING:absl:Found untraced functions such as gru_cell_33_layer_call_fn, gru_cell_33_layer_call_and_return_conditional_losses, gru_cell_34_layer_call_fn, gru_cell_34_layer_call_and_return_conditional_losses, gru_cell_33_layer_call_fn while saving (showing 5 of 10). These functions will not be directly callable after loading.\n"
     ]
    },
    {
     "name": "stdout",
     "output_type": "stream",
     "text": [
      "INFO:tensorflow:Assets written to: ram://ca0f0af0-73d7-4a5e-bd8e-ffa3070714da/assets\n"
     ]
    },
    {
     "name": "stderr",
     "output_type": "stream",
     "text": [
      "INFO:tensorflow:Assets written to: ram://ca0f0af0-73d7-4a5e-bd8e-ffa3070714da/assets\n",
      "WARNING:absl:<keras.layers.recurrent.GRUCell object at 0x1530973f4490> has the same name 'GRUCell' as a built-in Keras object. Consider renaming <class 'keras.layers.recurrent.GRUCell'> to avoid naming conflicts when loading with `tf.keras.models.load_model`. If renaming is not possible, pass the object in the `custom_objects` parameter of the load function.\n",
      "WARNING:absl:<keras.layers.recurrent.GRUCell object at 0x1530973fa310> has the same name 'GRUCell' as a built-in Keras object. Consider renaming <class 'keras.layers.recurrent.GRUCell'> to avoid naming conflicts when loading with `tf.keras.models.load_model`. If renaming is not possible, pass the object in the `custom_objects` parameter of the load function.\n",
      "WARNING:absl:Found untraced functions such as gru_cell_52_layer_call_fn, gru_cell_52_layer_call_and_return_conditional_losses, lstm_cell_111_layer_call_fn, lstm_cell_111_layer_call_and_return_conditional_losses, gru_cell_53_layer_call_fn while saving (showing 5 of 15). These functions will not be directly callable after loading.\n"
     ]
    },
    {
     "name": "stdout",
     "output_type": "stream",
     "text": [
      "INFO:tensorflow:Assets written to: ram://43509b4e-2052-412b-b7b5-b39bcac5c466/assets\n"
     ]
    },
    {
     "name": "stderr",
     "output_type": "stream",
     "text": [
      "INFO:tensorflow:Assets written to: ram://43509b4e-2052-412b-b7b5-b39bcac5c466/assets\n",
      "WARNING:absl:<keras.layers.recurrent.GRUCell object at 0x15308e47d940> has the same name 'GRUCell' as a built-in Keras object. Consider renaming <class 'keras.layers.recurrent.GRUCell'> to avoid naming conflicts when loading with `tf.keras.models.load_model`. If renaming is not possible, pass the object in the `custom_objects` parameter of the load function.\n",
      "WARNING:absl:<keras.layers.recurrent.LSTMCell object at 0x15308e1e92e0> has the same name 'LSTMCell' as a built-in Keras object. Consider renaming <class 'keras.layers.recurrent.LSTMCell'> to avoid naming conflicts when loading with `tf.keras.models.load_model`. If renaming is not possible, pass the object in the `custom_objects` parameter of the load function.\n",
      "WARNING:absl:<keras.layers.recurrent.GRUCell object at 0x15308e217a90> has the same name 'GRUCell' as a built-in Keras object. Consider renaming <class 'keras.layers.recurrent.GRUCell'> to avoid naming conflicts when loading with `tf.keras.models.load_model`. If renaming is not possible, pass the object in the `custom_objects` parameter of the load function.\n"
     ]
    }
   ],
   "source": [
    "dirname = '../2022 summer argonne/jupyter/!data/pre-loaded/04all_data_16in_4out_seasonal/'\n",
    "subfolders = [f'season{i}' for i in range(1,5)]\n",
    "study_filename = '16in.4out.study'\n",
    "study_paths = [os.path.join(dirname, subfolder, study_filename) for subfolder in subfolders]\n",
    "\n",
    "\n",
    "\n",
    "# get the best models from each study in the list and save them in a dict w/ their names\n",
    "models = [get_best_model_from_study(path) for path in study_paths]\n",
    "model_names = ['winter','spring','summer','fall']\n",
    "models_dict = dict(zip(model_names, models))\n",
    "\n",
    "# save each model to a file w/ its associated name\n",
    "for name, model in models_dict.items():\n",
    "    convert_and_save_as_tflite(name, model)"
   ]
  },
  {
   "cell_type": "markdown",
   "id": "f26dd256",
   "metadata": {},
   "source": [
    "Non-seaonal model"
   ]
  },
  {
   "cell_type": "code",
   "execution_count": null,
   "id": "6a7a3265",
   "metadata": {},
   "outputs": [],
   "source": [
    "dirname = ''\n",
    "study_filename = '48in.12out.study'\n",
    "study_path = os.path.join(dirname, study_filename)\n",
    "print(study_path)\n",
    "\n",
    "nonseasonal_model = get_best_model_from_study(study_path)\n",
    "convert_and_save_as_tflite('3hournonseasonal', nonseasonal_model)"
   ]
  },
  {
   "cell_type": "markdown",
   "id": "121e7645",
   "metadata": {},
   "source": [
    "## Testing predictions"
   ]
  },
  {
   "cell_type": "code",
   "execution_count": null,
   "id": "80a82d04",
   "metadata": {},
   "outputs": [
    {
     "name": "stderr",
     "output_type": "stream",
     "text": [
      "INFO: Created TensorFlow Lite delegate for select TF ops.\n",
      "2022-07-29 10:23:21.537854: I tensorflow/core/platform/cpu_feature_guard.cc:151] This TensorFlow binary is optimized with oneAPI Deep Neural Network Library (oneDNN) to use the following CPU instructions in performance-critical operations:  SSE4.1 SSE4.2 AVX AVX2 FMA\n",
      "To enable them in other operations, rebuild TensorFlow with the appropriate compiler flags.\n",
      "2022-07-29 10:23:25.888608: I tensorflow/core/common_runtime/gpu/gpu_device.cc:1525] Created device /job:localhost/replica:0/task:0/device:GPU:0 with 38396 MB memory:  -> device: 0, name: NVIDIA A100-SXM4-40GB, pci bus id: 0000:b7:00.0, compute capability: 8.0\n",
      "INFO: TfLiteFlexDelegate delegate: 6 nodes delegated out of 22 nodes with 4 partitions.\n",
      "\n"
     ]
    },
    {
     "name": "stdout",
     "output_type": "stream",
     "text": [
      "tensors allocated----------\n",
      "data loaded----------\n",
      "about to invoke----------\n"
     ]
    }
   ],
   "source": [
    "# baseline imports\n",
    "import numpy as np\n",
    "import os\n",
    "import pickle\n",
    "import tensorflow as tf\n",
    "import tensorflow.lite as tflite\n",
    "\n",
    "gpu_devices = tf.config.experimental.list_physical_devices(\"GPU\")\n",
    "for device in gpu_devices:\n",
    "    tf.config.experimental.set_memory_growth(device, True)\n",
    "\n",
    "    \n",
    "path = 'models/spring.tflite'\n",
    "interpreter = tflite.Interpreter(path)\n",
    "interpreter.allocate_tensors()\n",
    "print('tensors allocated----------')\n",
    "\n",
    "\n",
    "def unpickle_thing(path):\n",
    "    with open(path, 'rb') as handle:\n",
    "        thing = pickle.load(handle)\n",
    "    return thing\n",
    "\n",
    "X_test = unpickle_thing('dummy_data/X_test')\n",
    "y_test = unpickle_thing('dummy_data/y_test')\n",
    "\n",
    "X_test = np.float32(X_test)\n",
    "print('data loaded----------')\n",
    "\n",
    "\n",
    "output = interpreter.get_output_details()[0]  # Model has single output.\n",
    "input_ = interpreter.get_input_details()[0]  # Model has single input.\n",
    "input_data = np.expand_dims(X_test[0],axis=0)\n",
    "interpreter.set_tensor(input_['index'], input_data)\n",
    "print('about to invoke----------')\n",
    "interpreter.invoke()\n",
    "\n",
    "print(interpreter.get_tensor(output['index']))\n",
    "\n",
    "interpreter.close()"
   ]
  }
 ],
 "metadata": {
  "kernelspec": {
   "display_name": "Python 3.9.12 ('tf')",
   "language": "python",
   "name": "python3"
  },
  "language_info": {
   "codemirror_mode": {
    "name": "ipython",
    "version": 3
   },
   "file_extension": ".py",
   "mimetype": "text/x-python",
   "name": "python",
   "nbconvert_exporter": "python",
   "pygments_lexer": "ipython3",
   "version": "3.9.12"
  },
  "vscode": {
   "interpreter": {
    "hash": "1785dcf101801635e756bb912841babeca560cb71b91fc4ced8de7e694d77769"
   }
  }
 },
 "nbformat": 4,
 "nbformat_minor": 5
}
